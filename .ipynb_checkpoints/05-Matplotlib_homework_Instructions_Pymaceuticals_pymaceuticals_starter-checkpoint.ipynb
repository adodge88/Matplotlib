{
 "cells": [
  {
   "cell_type": "markdown",
   "metadata": {},
   "source": [
    "## Observations and Insights"
   ]
  },
  {
   "cell_type": "markdown",
   "metadata": {},
   "source": []
  },
  {
   "cell_type": "markdown",
   "metadata": {},
   "source": [
    "## Dependencies and starter code"
   ]
  },
  {
   "cell_type": "code",
   "execution_count": 58,
   "metadata": {},
   "outputs": [
    {
     "name": "stdout",
     "output_type": "stream",
     "text": [
      "length: 1893\n",
      "data types: Mouse ID               object\n",
      "Drug Regimen           object\n",
      "Sex                    object\n",
      "Age_months              int64\n",
      "Weight (g)              int64\n",
      "Timepoint               int64\n",
      "Tumor Volume (mm3)    float64\n",
      "Metastatic Sites        int64\n",
      "dtype: object\n"
     ]
    },
    {
     "data": {
      "text/html": [
       "<div>\n",
       "<style scoped>\n",
       "    .dataframe tbody tr th:only-of-type {\n",
       "        vertical-align: middle;\n",
       "    }\n",
       "\n",
       "    .dataframe tbody tr th {\n",
       "        vertical-align: top;\n",
       "    }\n",
       "\n",
       "    .dataframe thead th {\n",
       "        text-align: right;\n",
       "    }\n",
       "</style>\n",
       "<table border=\"1\" class=\"dataframe\">\n",
       "  <thead>\n",
       "    <tr style=\"text-align: right;\">\n",
       "      <th></th>\n",
       "      <th>Mouse ID</th>\n",
       "      <th>Drug Regimen</th>\n",
       "      <th>Sex</th>\n",
       "      <th>Age_months</th>\n",
       "      <th>Weight (g)</th>\n",
       "      <th>Timepoint</th>\n",
       "      <th>Tumor Volume (mm3)</th>\n",
       "      <th>Metastatic Sites</th>\n",
       "    </tr>\n",
       "  </thead>\n",
       "  <tbody>\n",
       "    <tr>\n",
       "      <th>0</th>\n",
       "      <td>k403</td>\n",
       "      <td>Ramicane</td>\n",
       "      <td>Male</td>\n",
       "      <td>21</td>\n",
       "      <td>16</td>\n",
       "      <td>0</td>\n",
       "      <td>45.000000</td>\n",
       "      <td>0</td>\n",
       "    </tr>\n",
       "    <tr>\n",
       "      <th>1</th>\n",
       "      <td>k403</td>\n",
       "      <td>Ramicane</td>\n",
       "      <td>Male</td>\n",
       "      <td>21</td>\n",
       "      <td>16</td>\n",
       "      <td>5</td>\n",
       "      <td>38.825898</td>\n",
       "      <td>0</td>\n",
       "    </tr>\n",
       "    <tr>\n",
       "      <th>2</th>\n",
       "      <td>k403</td>\n",
       "      <td>Ramicane</td>\n",
       "      <td>Male</td>\n",
       "      <td>21</td>\n",
       "      <td>16</td>\n",
       "      <td>10</td>\n",
       "      <td>35.014271</td>\n",
       "      <td>1</td>\n",
       "    </tr>\n",
       "    <tr>\n",
       "      <th>3</th>\n",
       "      <td>k403</td>\n",
       "      <td>Ramicane</td>\n",
       "      <td>Male</td>\n",
       "      <td>21</td>\n",
       "      <td>16</td>\n",
       "      <td>15</td>\n",
       "      <td>34.223992</td>\n",
       "      <td>1</td>\n",
       "    </tr>\n",
       "    <tr>\n",
       "      <th>4</th>\n",
       "      <td>k403</td>\n",
       "      <td>Ramicane</td>\n",
       "      <td>Male</td>\n",
       "      <td>21</td>\n",
       "      <td>16</td>\n",
       "      <td>20</td>\n",
       "      <td>32.997729</td>\n",
       "      <td>1</td>\n",
       "    </tr>\n",
       "  </tbody>\n",
       "</table>\n",
       "</div>"
      ],
      "text/plain": [
       "  Mouse ID Drug Regimen   Sex  Age_months  Weight (g)  Timepoint  \\\n",
       "0     k403     Ramicane  Male          21          16          0   \n",
       "1     k403     Ramicane  Male          21          16          5   \n",
       "2     k403     Ramicane  Male          21          16         10   \n",
       "3     k403     Ramicane  Male          21          16         15   \n",
       "4     k403     Ramicane  Male          21          16         20   \n",
       "\n",
       "   Tumor Volume (mm3)  Metastatic Sites  \n",
       "0           45.000000                 0  \n",
       "1           38.825898                 0  \n",
       "2           35.014271                 1  \n",
       "3           34.223992                 1  \n",
       "4           32.997729                 1  "
      ]
     },
     "execution_count": 58,
     "metadata": {},
     "output_type": "execute_result"
    }
   ],
   "source": [
    "# Dependencies and Setup\n",
    "import matplotlib.pyplot as plt\n",
    "import pandas as pd\n",
    "import scipy.stats as st\n",
    "import numpy as np\n",
    "\n",
    "# Study data files\n",
    "mouse_metadata = \"data/Mouse_metadata.csv\"\n",
    "study_results = \"data/Study_results.csv\"\n",
    "\n",
    "# Read the mouse data and the study results\n",
    "mouse_metadata = pd.read_csv(mouse_metadata)\n",
    "study_results = pd.read_csv(study_results)\n",
    "\n",
    "# Combine the data into a single dataset\n",
    "mouse_study_combo = mouse_metadata.merge(study_results)\n",
    "\n",
    "print(f'length: {len(mouse_study_combo)}')\n",
    "print(f'data types: {mouse_study_combo.dtypes}')\n",
    "\n",
    "mouse_study_combo.head()\n"
   ]
  },
  {
   "cell_type": "markdown",
   "metadata": {},
   "source": [
    "## Summary statistics"
   ]
  },
  {
   "cell_type": "code",
   "execution_count": 59,
   "metadata": {},
   "outputs": [
    {
     "name": "stdout",
     "output_type": "stream",
     "text": [
      "SUMMARY STATS\n"
     ]
    },
    {
     "data": {
      "text/html": [
       "<div>\n",
       "<style scoped>\n",
       "    .dataframe tbody tr th:only-of-type {\n",
       "        vertical-align: middle;\n",
       "    }\n",
       "\n",
       "    .dataframe tbody tr th {\n",
       "        vertical-align: top;\n",
       "    }\n",
       "\n",
       "    .dataframe thead th {\n",
       "        text-align: right;\n",
       "    }\n",
       "</style>\n",
       "<table border=\"1\" class=\"dataframe\">\n",
       "  <thead>\n",
       "    <tr style=\"text-align: right;\">\n",
       "      <th></th>\n",
       "      <th></th>\n",
       "      <th>Age_months</th>\n",
       "      <th>Weight (g)</th>\n",
       "      <th>Timepoint</th>\n",
       "      <th>Tumor Volume (mm3)</th>\n",
       "      <th>Metastatic Sites</th>\n",
       "    </tr>\n",
       "  </thead>\n",
       "  <tbody>\n",
       "    <tr>\n",
       "      <th>0</th>\n",
       "      <td>mean</td>\n",
       "      <td>12.81</td>\n",
       "      <td>25.66</td>\n",
       "      <td>19.57</td>\n",
       "      <td>50.45</td>\n",
       "      <td>1.02</td>\n",
       "    </tr>\n",
       "    <tr>\n",
       "      <th>1</th>\n",
       "      <td>median</td>\n",
       "      <td>13.00</td>\n",
       "      <td>27.00</td>\n",
       "      <td>20.00</td>\n",
       "      <td>48.95</td>\n",
       "      <td>1.00</td>\n",
       "    </tr>\n",
       "    <tr>\n",
       "      <th>2</th>\n",
       "      <td>variance</td>\n",
       "      <td>51.69</td>\n",
       "      <td>15.38</td>\n",
       "      <td>198.23</td>\n",
       "      <td>79.12</td>\n",
       "      <td>1.29</td>\n",
       "    </tr>\n",
       "    <tr>\n",
       "      <th>3</th>\n",
       "      <td>std</td>\n",
       "      <td>7.19</td>\n",
       "      <td>3.92</td>\n",
       "      <td>14.08</td>\n",
       "      <td>8.89</td>\n",
       "      <td>1.14</td>\n",
       "    </tr>\n",
       "    <tr>\n",
       "      <th>4</th>\n",
       "      <td>SEM</td>\n",
       "      <td>0.17</td>\n",
       "      <td>0.09</td>\n",
       "      <td>0.32</td>\n",
       "      <td>0.20</td>\n",
       "      <td>0.03</td>\n",
       "    </tr>\n",
       "  </tbody>\n",
       "</table>\n",
       "</div>"
      ],
      "text/plain": [
       "             Age_months  Weight (g)  Timepoint  Tumor Volume (mm3)  \\\n",
       "0      mean       12.81       25.66      19.57               50.45   \n",
       "1    median       13.00       27.00      20.00               48.95   \n",
       "2  variance       51.69       15.38     198.23               79.12   \n",
       "3       std        7.19        3.92      14.08                8.89   \n",
       "4       SEM        0.17        0.09       0.32                0.20   \n",
       "\n",
       "   Metastatic Sites  \n",
       "0              1.02  \n",
       "1              1.00  \n",
       "2              1.29  \n",
       "3              1.14  \n",
       "4              0.03  "
      ]
     },
     "execution_count": 59,
     "metadata": {},
     "output_type": "execute_result"
    }
   ],
   "source": [
    "# Generate a summary statistics table of mean, median, variance, standard deviation, and SEM of the tumor volume for each regimen\n",
    "summary_stats = pd.DataFrame({\n",
    "    '':['mean', 'median','variance', 'std', 'SEM'],\n",
    "    'Age_months':[round(mouse_study_combo.loc[:,'Age_months'].mean(),2),\n",
    "                 round(mouse_study_combo.loc[:,'Age_months'].median(),2),\n",
    "                 round(mouse_study_combo.loc[:,'Age_months'].var(),2),\n",
    "                 round(mouse_study_combo.loc[:,'Age_months'].std(),2),\n",
    "                 round(mouse_study_combo.loc[:,'Age_months'].sem(),2)],\n",
    "    \n",
    "    'Weight (g)':[round(mouse_study_combo.loc[:,'Weight (g)'].mean(),2),\n",
    "                 round(mouse_study_combo.loc[:,'Weight (g)'].median(),2),\n",
    "                 round(mouse_study_combo.loc[:,'Weight (g)'].var(),2),\n",
    "                 round(mouse_study_combo.loc[:,'Weight (g)'].std(),2),\n",
    "                 round(mouse_study_combo.loc[:,'Weight (g)'].sem(),2)],\n",
    "    \n",
    "    'Timepoint':[round(mouse_study_combo.loc[:,'Timepoint'].mean(),2),\n",
    "                 round(mouse_study_combo.loc[:,'Timepoint'].median(),2),\n",
    "                 round(mouse_study_combo.loc[:,'Timepoint'].var(),2),\n",
    "                 round(mouse_study_combo.loc[:,'Timepoint'].std(),2),\n",
    "                 round(mouse_study_combo.loc[:,'Timepoint'].sem(),2)],\n",
    "    \n",
    "    'Tumor Volume (mm3)':[round(mouse_study_combo.loc[:,'Tumor Volume (mm3)'].mean(),2),\n",
    "                 round(mouse_study_combo.loc[:,'Tumor Volume (mm3)'].median(),2),\n",
    "                 round(mouse_study_combo.loc[:,'Tumor Volume (mm3)'].var(),2),\n",
    "                 round(mouse_study_combo.loc[:,'Tumor Volume (mm3)'].std(),2),\n",
    "                 round(mouse_study_combo.loc[:,'Tumor Volume (mm3)'].sem(),2)],\n",
    "    \n",
    "    'Metastatic Sites':[round(mouse_study_combo.loc[:,'Metastatic Sites'].mean(),2),\n",
    "                 round(mouse_study_combo.loc[:,'Metastatic Sites'].median(),2),\n",
    "                 round(mouse_study_combo.loc[:,'Metastatic Sites'].var(),2),\n",
    "                 round(mouse_study_combo.loc[:,'Metastatic Sites'].std(),2),\n",
    "                 round(mouse_study_combo.loc[:,'Metastatic Sites'].sem(),2)]\n",
    "})\n",
    "\n",
    "\n",
    "print(\"SUMMARY STATS\")\n",
    "summary_stats"
   ]
  },
  {
   "cell_type": "markdown",
   "metadata": {},
   "source": [
    "## Bar plots"
   ]
  },
  {
   "cell_type": "code",
   "execution_count": 76,
   "metadata": {},
   "outputs": [
    {
     "data": {
      "text/plain": [
       "Text(0, 0.5, 'Treatment Count')"
      ]
     },
     "execution_count": 76,
     "metadata": {},
     "output_type": "execute_result"
    },
    {
     "data": {
      "image/png": "[encoded data removed]",
      "text/plain": [
       "<Figure size 432x288 with 1 Axes>"
      ]
     },
     "metadata": {
      "needs_background": "light"
     },
     "output_type": "display_data"
    }
   ],
   "source": [
    "# Generate a bar plot showing number of data points for each treatment regimen using pandas\n",
    "\n",
    "treatments_group = mouse_study_combo.groupby('Drug Regimen')\n",
    "\n",
    "count_treatments = treatments_group['Drug Regimen'].count()\n",
    "\n",
    "count_chart = count_treatments.plot(kind=\"bar\")\n",
    "\n",
    "plt.title('Total Treatments')\n",
    "plt.xlabel('Treatment Regimen')\n",
    "plt.ylabel('Treatment Count')"
   ]
  },
  {
   "cell_type": "code",
   "execution_count": 105,
   "metadata": {},
   "outputs": [
    {
     "data": {
      "text/plain": [
       "<BarContainer object of 10 artists>"
      ]
     },
     "execution_count": 105,
     "metadata": {},
     "output_type": "execute_result"
    },
    {
     "data": {
      "image/png": "[encoded data removed]",
      "text/plain": [
       "<Figure size 432x288 with 1 Axes>"
      ]
     },
     "metadata": {
      "needs_background": "light"
     },
     "output_type": "display_data"
    }
   ],
   "source": [
    "# Generate a bar plot showing number of data points for each treatment regimen using pyplot\n",
    "#DataFrame.plot() and Matplotlib's pyplot \n",
    "x_axis = np.arange(len(count_treatments))\n",
    "y_axis = count_treatments.values.tolist()\n",
    "\n",
    "tick_locations = [value for value in x_axis]\n",
    "plt.xticks(tick_locations, treatment_reg.index.tolist(),rotation='vertical')\n",
    "\n",
    "plt.title('Total Treatments')\n",
    "plt.xlabel('Treatment Regimen')\n",
    "plt.ylabel('Treatment Count')\n",
    "\n",
    "plt.xlim(0.50,len(x_axis)- 0.5)\n",
    "\n",
    "plt.bar(x_axis, y_axis, color=\"b\", alpha = 0.5, align=\"center\")"
   ]
  },
  {
   "cell_type": "markdown",
   "metadata": {},
   "source": [
    "## Pie plots"
   ]
  },
  {
   "cell_type": "code",
   "execution_count": 63,
   "metadata": {},
   "outputs": [
    {
     "data": {
      "text/html": [
       "<div>\n",
       "<style scoped>\n",
       "    .dataframe tbody tr th:only-of-type {\n",
       "        vertical-align: middle;\n",
       "    }\n",
       "\n",
       "    .dataframe tbody tr th {\n",
       "        vertical-align: top;\n",
       "    }\n",
       "\n",
       "    .dataframe thead th {\n",
       "        text-align: right;\n",
       "    }\n",
       "</style>\n",
       "<table border=\"1\" class=\"dataframe\">\n",
       "  <thead>\n",
       "    <tr style=\"text-align: right;\">\n",
       "      <th></th>\n",
       "      <th>Sex</th>\n",
       "    </tr>\n",
       "  </thead>\n",
       "  <tbody>\n",
       "    <tr>\n",
       "      <th>Male</th>\n",
       "      <td>958</td>\n",
       "    </tr>\n",
       "    <tr>\n",
       "      <th>Female</th>\n",
       "      <td>935</td>\n",
       "    </tr>\n",
       "  </tbody>\n",
       "</table>\n",
       "</div>"
      ],
      "text/plain": [
       "        Sex\n",
       "Male    958\n",
       "Female  935"
      ]
     },
     "execution_count": 63,
     "metadata": {},
     "output_type": "execute_result"
    }
   ],
   "source": [
    "sex = mouse_study_combo['Sex']\n",
    "sex = pd.DataFrame(sex.value_counts())\n",
    "sex"
   ]
  },
  {
   "cell_type": "code",
   "execution_count": 64,
   "metadata": {},
   "outputs": [
    {
     "data": {
      "image/png": "[encoded data removed]",
      "text/plain": [
       "<Figure size 432x288 with 1 Axes>"
      ]
     },
     "metadata": {},
     "output_type": "display_data"
    }
   ],
   "source": [
    "# Generate a pie plot showing the distribution of female versus male mice using pandas\n",
    "sex.plot.pie(subplots=True,autopct=\"%1.1f%%\")\n",
    "\n",
    "plt.title('Male vs Female Mice')\n",
    "plt.show()"
   ]
  },
  {
   "cell_type": "code",
   "execution_count": 65,
   "metadata": {},
   "outputs": [
    {
     "data": {
      "image/png": "[encoded data removed]",
      "text/plain": [
       "<Figure size 432x288 with 1 Axes>"
      ]
     },
     "metadata": {},
     "output_type": "display_data"
    }
   ],
   "source": [
    "# Generate a pie plot showing the distribution of female versus \n",
    "#male mice using pyplot\n",
    "\n",
    "labels = ['Male','Female']\n",
    "sizes = [958,935]\n",
    "\n",
    "plt.title('Male vs Female Mice')\n",
    "\n",
    "plt.pie(sizes,labels=labels, shadow = True, autopct=\"%1.1f%%\")\n",
    "plt.show()"
   ]
  },
  {
   "cell_type": "markdown",
   "metadata": {},
   "source": [
    "## Quartiles, outliers and boxplots"
   ]
  },
  {
   "cell_type": "code",
   "execution_count": 57,
   "metadata": {},
   "outputs": [],
   "source": [
    "# Calculate the final tumor volume of each mouse across four of\n",
    "#the most promising treatment regimens. Calculate the IQR and \n",
    "#quantitatively determine if there are any potential outliers. \n",
    "\n",
    "#\t        Count\n",
    "#Capomulin\t230\n",
    "#Ramicane\t228\n",
    "#Ketapril\t188\n",
    "#Naftisol\t186"
   ]
  },
  {
   "cell_type": "code",
   "execution_count": null,
   "metadata": {},
   "outputs": [],
   "source": [
    "# Generate a box plot of the final tumor volume of each mouse across\n",
    "#four regimens of interest"
   ]
  },
  {
   "cell_type": "markdown",
   "metadata": {},
   "source": [
    "## Line and scatter plots"
   ]
  },
  {
   "cell_type": "code",
   "execution_count": 133,
   "metadata": {},
   "outputs": [],
   "source": [
    "#Create a DataFrame of only Capomulin\n",
    "capomulin_df = drug_regimen.loc['Capomulin']\n",
    "s185_df = capomulin_df.loc[capomulin_df['Mouse ID']== \"s185\"]\n",
    "#s185_df"
   ]
  },
  {
   "cell_type": "code",
   "execution_count": 132,
   "metadata": {},
   "outputs": [
    {
     "data": {
      "image/png": "[encoded data removed]",
      "text/plain": [
       "<Figure size 432x288 with 1 Axes>"
      ]
     },
     "metadata": {
      "needs_background": "light"
     },
     "output_type": "display_data"
    }
   ],
   "source": [
    "# Generate a line plot of time point versus tumor volume for a mouse treated with Capomulin\n",
    "#data to plot\n",
    "x_axis = np.arange(0,10,1)\n",
    "t_vol = s185_df['Tumor Volume (mm3)'].values.tolist()\n",
    "timepoint = s185_df['Timepoint'].values.tolist()\n",
    "\n",
    "#relabel the tix\n",
    "tick_locations = [value for value in x_axis]\n",
    "plt.xticks(tick_locations, timepoint)\n",
    "\n",
    "#plot the graph\n",
    "plt.plot(x_axis, t_vol,marker=\"o\",linewidth=2, label = \"Tumor Vol.\")\n",
    "\n",
    "#Format\n",
    "plt.legend(loc='best')\n",
    "plt.title('Total Treatments')\n",
    "plt.xlabel('Timepoint')\n",
    "plt.ylabel('Volume (mm3)')\n",
    "\n",
    "plt.show()\n"
   ]
  },
  {
   "cell_type": "code",
   "execution_count": 84,
   "metadata": {},
   "outputs": [],
   "source": [
    "# Generate a scatter plot of mouse weight versus average tumor volume for the Capomulin regimen\n",
    "\n"
   ]
  },
  {
   "cell_type": "code",
   "execution_count": null,
   "metadata": {},
   "outputs": [],
   "source": [
    "# Calculate the correlation coefficient and linear regression model for mouse weight and average tumor volume for the Capomulin regimen"
   ]
  },
  {
   "cell_type": "code",
   "execution_count": null,
   "metadata": {},
   "outputs": [],
   "source": []
  }
 ],
 "metadata": {
  "anaconda-cloud": {},
  "kernelspec": {
   "display_name": "Python 3",
   "language": "python",
   "name": "python3"
  },
  "language_info": {
   "codemirror_mode": {
    "name": "ipython",
    "version": 3
   },
   "file_extension": ".py",
   "mimetype": "text/x-python",
   "name": "python",
   "nbconvert_exporter": "python",
   "pygments_lexer": "ipython3",
   "version": "3.7.3"
  }
 },
 "nbformat": 4,
 "nbformat_minor": 2
}
